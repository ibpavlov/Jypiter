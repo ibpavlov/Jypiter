{
  "cells": [
    {
      "metadata": {},
      "cell_type": "markdown",
      "source": "# Snake game\n- Programming language: Python;\n- N by N dimentions (or N by M) (initial 10)\n- Initial size of the snake is 10\n- Apples are generated randomly and places on the board\n- Start with one apple\n- if you eat one apple the snake increases with 3 apples\n- if you don't eat an apple in a minute 3 apples will appear"
    },
    {
      "metadata": {},
      "cell_type": "markdown",
      "source": "Import `randint` method from random to generate positions"
    },
    {
      "metadata": {
        "trusted": true
      },
      "cell_type": "code",
      "source": "from random import randint",
      "execution_count": 38,
      "outputs": []
    },
    {
      "metadata": {},
      "cell_type": "markdown",
      "source": "## Setup constants"
    },
    {
      "metadata": {
        "trusted": true
      },
      "cell_type": "code",
      "source": "BOARD = {\n    \"X\": 10,\n    \"Y\": 10\n}\nTIMED_INCREASE = {\n    \"APPLES\": 3,\n    \"SECONDS\": 60\n}\nEAT_GROWTH = {\n    \"APPLES\": 2,\n    \"SNAKE\": 3\n}\nINITIAL = {\n    \"APPLES\": 1,\n    \"SNAKE_SIZE\": 10,\n    \"SNAKE_POSITION\": [ (0, 2), (0, 1), (0, 0)]\n}\nDIRECTIONS = {\n    \"LEFT\": (-1, 0),\n    \"RIGHT\": (1, 0),\n    \"UP\": (0, 1),\n    \"DOWN\": (0, -1),\n    \"L\": (-1, 0),\n    \"R\": (1, 0),\n    \"U\": (0, 1),\n    \"D\": (0, -1),\n    \"l\": (-1, 0),\n    \"r\": (1, 0),\n    \"u\": (0, 1),\n    \"d\": (0, -1),\n}\n\n",
      "execution_count": 39,
      "outputs": []
    },
    {
      "metadata": {},
      "cell_type": "markdown",
      "source": "## Variables"
    },
    {
      "metadata": {
        "trusted": true
      },
      "cell_type": "code",
      "source": "snake, apples = [], []\nsnake_size = 0\nseconds = 0",
      "execution_count": 40,
      "outputs": []
    },
    {
      "metadata": {},
      "cell_type": "markdown",
      "source": "## Main game functions"
    },
    {
      "metadata": {
        "trusted": true
      },
      "cell_type": "code",
      "source": "def init():\n    global apples, snake, snake_size, seconds\n    apples = []\n    snake = []\n    seconds = 0\n    snake = INITIAL[\"SNAKE_POSITION\"]\n    snake_size = INITIAL[\"SNAKE_SIZE\"]\n    generate_apples(INITIAL[\"APPLES\"])\n\ndef place_apple(coord=None):\n    global apples\n    if coord:\n        apples.append(coord)\n        return\n\n    while True:\n        x = randint(0, BOARD['X']-1)\n        y = randint(0, BOARD['Y']-1)\n        if (x, y) not in snake:\n           apples.append( (x, y) )\n           return \n            \ndef generate_apples(number=1):\n    for x in range(number):\n        place_apple()\n\ndef remove_apple(coord=None):\n    global apples\n    if coord in apples:\n        del apples[apples.index(coord)];\n\ndef step(direction):\n    global snake_size, seconds\n    old_head = snake[0]\n    movement = DIRECTIONS[direction]\n    new_head = (old_head[0]+movement[0], old_head[1]+movement[1])\n\n    if (\n            new_head[0] < 0 or\n            new_head[0] >= BOARD['X'] or\n            new_head[1] < 0 or\n            new_head[1] >= BOARD['Y'] or\n            new_head in snake\n        ):\n        return False\n        \n    if new_head in apples:\n        snake_size += EAT_GROWTH[\"SNAKE\"]\n        seconds = 0\n        \n    if (snake_size <= len(snake)):\n        del snake[-1]\n\n    snake.insert(0, new_head)\n    \n    if new_head in apples:\n        remove_apple(new_head)\n        generate_apples(EAT_GROWTH[\"APPLES\"])\n            \n    if seconds > TIMED_INCREASE[\"SECONDS\"]:\n        generate_apples(TIMED_INCREASE[\"APPLES\"])\n        \n        \n    return True",
      "execution_count": 41,
      "outputs": []
    },
    {
      "metadata": {},
      "cell_type": "markdown",
      "source": "## Tests"
    },
    {
      "metadata": {
        "trusted": true
      },
      "cell_type": "code",
      "source": "def test():\n    global apples\n    \n    init()\n    assert step('UP')\n\n    if (INITIAL[\"SNAKE_SIZE\"] > 3):\n        assert snake == [(0, 3), (0, 2), (0, 1), (0, 0)]\n    else:\n        assert snake == [(0, 3), (0, 2), (0, 1)]  \n\n    place_apple( (0, 4))\n    assert step('UP')\n\n    if (INITIAL[\"SNAKE_SIZE\"] > 3):\n        assert snake == [(0, 4), (0, 3), (0, 2), (0, 1), (0,0)]\n    else:\n        assert snake == [(0, 4), (0, 3), (0, 2), (0, 1)]  \n    \n    assert (0, 4) not in apples\n\n    assert not step('DOWN'), 'DIE!'\n    \ntest()",
      "execution_count": 42,
      "outputs": []
    },
    {
      "metadata": {},
      "cell_type": "markdown",
      "source": "## Run as a console text game"
    },
    {
      "metadata": {
        "trusted": true
      },
      "cell_type": "code",
      "source": "from IPython.display import clear_output\nimport time;\n\ndef print_board():\n    print('=' * (BOARD['X']+2))\n    for y in range(BOARD['Y']-1, -1, -1):\n        print('|', end='')\n        for x in range(BOARD['X']):\n            out = ' '\n            if (x, y) in snake:\n                if snake.index((x, y)):\n                    out = 'x'\n                else:\n                    out = 'X'\n            elif (x, y) in apples:\n                out = 'O'\n            print(out, end='')\n        print('|')\n    print('=' * (BOARD['X']+2))\n\ndef run():\n    init()\n    global seconds\n    current = time.time();\n    \n    while True:\n        print_board()\n        direction = ''\n        while direction not in DIRECTIONS:\n            direction = input('UP, DOWN, RIGHT, LEFT or (U,D,R,L): ')\n            \n        clear_output()\n        seconds += time.time() - current\n        current = time.time()\n        if not step(direction):\n            print_board()\n            print (\"DEAD. Score: \" + str(len(snake)))\n            return\nrun()",
      "execution_count": 47,
      "outputs": [
        {
          "output_type": "stream",
          "text": "============\n|xxx       |\n|xXx     O |\n|xxx       |\n|x         |\n|          |\n|          |\n|          |\n|          |\n|          |\n|          |\n============\nDEAD. Score: 10\n",
          "name": "stdout"
        }
      ]
    },
    {
      "metadata": {
        "trusted": true
      },
      "cell_type": "code",
      "source": "",
      "execution_count": null,
      "outputs": []
    }
  ],
  "metadata": {
    "kernelspec": {
      "name": "python3",
      "display_name": "Python 3",
      "language": "python"
    },
    "language_info": {
      "mimetype": "text/x-python",
      "nbconvert_exporter": "python",
      "name": "python",
      "file_extension": ".py",
      "version": "3.5.4",
      "pygments_lexer": "ipython3",
      "codemirror_mode": {
        "version": 3,
        "name": "ipython"
      }
    }
  },
  "nbformat": 4,
  "nbformat_minor": 2
}
